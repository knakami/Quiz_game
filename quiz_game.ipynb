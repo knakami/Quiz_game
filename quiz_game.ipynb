{
 "cells": [
  {
   "cell_type": "code",
   "execution_count": 1,
   "id": "5e8e5674-918b-456c-85b1-7e8478bb1744",
   "metadata": {},
   "outputs": [
    {
     "name": "stdout",
     "output_type": "stream",
     "text": [
      "Welcome to the European Capitals Quiz! Let's test your knowledge of European geography.\n"
     ]
    },
    {
     "name": "stdin",
     "output_type": "stream",
     "text": [
      "Do you want to play? (Enter 'yes' to play):  \n"
     ]
    },
    {
     "name": "stdout",
     "output_type": "stream",
     "text": [
      "Great! Let's get started.\n"
     ]
    },
    {
     "name": "stdin",
     "output_type": "stream",
     "text": [
      "What is the capital of France?  paris\n"
     ]
    },
    {
     "name": "stdout",
     "output_type": "stream",
     "text": [
      "Correct!\n"
     ]
    },
    {
     "name": "stdin",
     "output_type": "stream",
     "text": [
      "What is the capital of Germany?  berlin\n"
     ]
    },
    {
     "name": "stdout",
     "output_type": "stream",
     "text": [
      "Correct!\n"
     ]
    },
    {
     "name": "stdin",
     "output_type": "stream",
     "text": [
      "What is the capital of Italy?  roma\n"
     ]
    },
    {
     "name": "stdout",
     "output_type": "stream",
     "text": [
      "Incorrect! The correct answer is Rome.\n"
     ]
    },
    {
     "name": "stdin",
     "output_type": "stream",
     "text": [
      "What is the capital of Spain?  madrid\n"
     ]
    },
    {
     "name": "stdout",
     "output_type": "stream",
     "text": [
      "Correct!\n",
      "You got 3 questions correct!\n",
      "You scored 75.0%.\n"
     ]
    }
   ],
   "source": [
    "# European Capitals Quiz\n",
    "\n",
    "## Welcome\n",
    "print(\"Welcome to the European Capitals Quiz! Let's test your knowledge of European geography.\")\n",
    "playing = input(\"Do you want to play? (Enter 'yes' to play): \")\n",
    "\n",
    "if playing.lower() != \"yes\":\n",
    "    quit()\n",
    "print(\"Great! Let's get started.\")\n",
    "\n",
    "score = 0\n",
    "\n",
    "# Quiz Questions\n",
    "\n",
    "# Question 1\n",
    "answer = input(\"What is the capital of France? \")\n",
    "if answer.lower() == \"paris\":\n",
    "    print(\"Correct!\")\n",
    "    score += 1\n",
    "else:\n",
    "    print(\"Incorrect! The correct answer is Paris.\")\n",
    "\n",
    "# Question 2\n",
    "answer = input(\"What is the capital of Germany? \")\n",
    "if answer.lower() == \"berlin\":\n",
    "    print(\"Correct!\")\n",
    "    score += 1\n",
    "else:\n",
    "    print(\"Incorrect! The correct answer is Berlin.\")\n",
    "\n",
    "# Question 3\n",
    "answer = input(\"What is the capital of Italy? \")\n",
    "if answer.lower() == \"rome\":\n",
    "    print(\"Correct!\")\n",
    "    score += 1\n",
    "else:\n",
    "    print(\"Incorrect! The correct answer is Rome.\")\n",
    "\n",
    "# Question 4\n",
    "answer = input(\"What is the capital of Spain? \")\n",
    "if answer.lower() == \"madrid\":\n",
    "    print(\"Correct!\")\n",
    "    score += 1\n",
    "else:\n",
    "    print(\"Incorrect! The correct answer is Madrid.\")\n",
    "\n",
    "# Quiz Results\n",
    "print(\"You got \" + str(score) + \" questions correct!\")\n",
    "print(\"You scored \" + str((score/4)*100) + \"%.\")\n"
   ]
  },
  {
   "cell_type": "code",
   "execution_count": null,
   "id": "ebe091fd-e3c2-4535-953b-a732d95c738f",
   "metadata": {},
   "outputs": [],
   "source": []
  }
 ],
 "metadata": {
  "kernelspec": {
   "display_name": "Python 3 (ipykernel)",
   "language": "python",
   "name": "python3"
  },
  "language_info": {
   "codemirror_mode": {
    "name": "ipython",
    "version": 3
   },
   "file_extension": ".py",
   "mimetype": "text/x-python",
   "name": "python",
   "nbconvert_exporter": "python",
   "pygments_lexer": "ipython3",
   "version": "3.8.6"
  }
 },
 "nbformat": 4,
 "nbformat_minor": 5
}
